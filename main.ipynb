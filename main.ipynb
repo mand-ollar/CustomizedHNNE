{
 "cells": [
  {
   "cell_type": "code",
   "execution_count": 2,
   "metadata": {},
   "outputs": [],
   "source": [
    "import shutil\n",
    "from pathlib import Path"
   ]
  },
  {
   "cell_type": "code",
   "execution_count": 2,
   "metadata": {},
   "outputs": [],
   "source": [
    "with open(\"data/results/clustered_audio/AngryMedia_gender_classification/AngryMedia_female_rejected.csv\", \"r\") as f:\n",
    "    rejected = f.read().split(\"\\n\")\n",
    "    f.close()"
   ]
  },
  {
   "cell_type": "code",
   "execution_count": 8,
   "metadata": {},
   "outputs": [],
   "source": [
    "for r in rejected:\n",
    "    if r.startswith(\"wav\") or r == \"\":\n",
    "        continue\n",
    "\n",
    "    r = r.split(\",\")[0]\n",
    "\n",
    "    if not Path(r).exists():\n",
    "        print(f\"File {r} does not exist\")\n",
    "        break\n",
    "    else:\n",
    "        src = Path(r)\n",
    "        dst = Path(f\"/data/datasets/AngryMedia/Male/{Path(r).name}\")\n",
    "        shutil.copy(src=src, dst=dst)\n",
    "        # shutil.copy(src=src.with_suffix(\".tsv\"), dst=dst.with_suffix(\".tsv\"))"
   ]
  },
  {
   "cell_type": "code",
   "execution_count": 9,
   "metadata": {},
   "outputs": [],
   "source": [
    "for r in rejected:\n",
    "    if r.startswith(\"wav\") or r == \"\":\n",
    "        continue\n",
    "\n",
    "    r = Path(r.split(\",\")[0])\n",
    "\n",
    "    if not Path(r).exists():\n",
    "        print(f\"File {r} does not exist\")\n",
    "        break\n",
    "    else:\n",
    "        r.unlink()"
   ]
  },
  {
   "cell_type": "code",
   "execution_count": 3,
   "metadata": {},
   "outputs": [],
   "source": [
    "from utils.make_tsv import tsv_from_path\n",
    "\n",
    "tsv_from_path(data_path=\"/data/datasets/AngryMedia/Male\", label=\"aggressive_yell_male\", hard_label_mode=\"full\")"
   ]
  },
  {
   "cell_type": "code",
   "execution_count": 7,
   "metadata": {},
   "outputs": [],
   "source": [
    "angry_media = Path(\"/data/datasets/AngryMedia/Female\")\n",
    "\n",
    "train_cnt = 0\n",
    "valid_cnt = 0\n",
    "\n",
    "wavs = list(angry_media.glob(\"*.wav\"))\n",
    "\n",
    "for i, wav in enumerate(wavs):\n",
    "    tsv = wav.with_suffix(\".tsv\")\n",
    "\n",
    "    if i % 5 == 0:\n",
    "        shutil.copy(src=wav, dst=f\"/data/datasets/AggressiveYell_16K/valid/{wav.name}\")\n",
    "        shutil.copy(src=tsv, dst=f\"/data/datasets/AggressiveYell_16K/valid/{tsv.name}\")\n",
    "        valid_cnt += 1\n",
    "    else:\n",
    "        shutil.copy(src=wav, dst=f\"/data/datasets/AggressiveYell_16K/train/{wav.name}\")\n",
    "        shutil.copy(src=tsv, dst=f\"/data/datasets/AggressiveYell_16K/train/{tsv.name}\")\n",
    "        train_cnt += 1"
   ]
  },
  {
   "cell_type": "code",
   "execution_count": 8,
   "metadata": {},
   "outputs": [
    {
     "data": {
      "text/plain": [
       "(328, 82)"
      ]
     },
     "execution_count": 8,
     "metadata": {},
     "output_type": "execute_result"
    }
   ],
   "source": [
    "train_cnt, valid_cnt"
   ]
  }
 ],
 "metadata": {
  "kernelspec": {
   "display_name": "data",
   "language": "python",
   "name": "python3"
  },
  "language_info": {
   "codemirror_mode": {
    "name": "ipython",
    "version": 3
   },
   "file_extension": ".py",
   "mimetype": "text/x-python",
   "name": "python",
   "nbconvert_exporter": "python",
   "pygments_lexer": "ipython3",
   "version": "3.11.9"
  }
 },
 "nbformat": 4,
 "nbformat_minor": 2
}
